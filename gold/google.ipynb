{
 "cells": [
  {
   "cell_type": "code",
   "execution_count": 4,
   "id": "7847e6d8",
   "metadata": {},
   "outputs": [
    {
     "name": "stdout",
     "output_type": "stream",
     "text": [
      "標題：The official site of the NBA for the latest NBA Scores, Stats & News ...www.nba.com\n",
      "網址：https://www.nba.com/&sa=U&ved=2ahUKEwj7mZ30i4-CAxXPslYBHZzgAAEQFnoECAYQAg&usg=AOvVaw1ZtnzQ5P_ag0ibL543d0MU\n",
      "\n",
      "標題：NBA 盡在Yahoo!奇摩運動頻道– 新聞、比分、名次、傳聞、賽場花絮tw.sports.yahoo.com › nba\n",
      "網址：https://tw.sports.yahoo.com/nba/&sa=U&ved=2ahUKEwj7mZ30i4-CAxXPslYBHZzgAAEQFnoECAgQAg&usg=AOvVaw3nz1reJsgBVUa2rLJMpN8j\n",
      "\n",
      "標題：聯合新聞網 - udn NBAtw-nba.udn.com › nba\n",
      "網址：https://tw-nba.udn.com/nba/index&sa=U&ved=2ahUKEwj7mZ30i4-CAxXPslYBHZzgAAEQFnoECAcQAg&usg=AOvVaw1ajuJ8MQakCG4c8gyt89z-\n",
      "\n",
      "標題：NBA - 維基百科，自由的百科全書zh.wikipedia.org › zh-tw › NBA\n",
      "網址：https://zh.wikipedia.org/zh-tw/NBA&sa=U&ved=2ahUKEwj7mZ30i4-CAxXPslYBHZzgAAEQFnoECAQQAg&usg=AOvVaw2slrmv__Tv6pErwzxL-aUz\n",
      "\n",
      "標題：NBA  300份雞排就定位！字母哥續約，灰熊水行俠整季報銷 - YouTubewww.youtube.com › watch\n",
      "網址：https://www.youtube.com/watch%3Fv%3DCSU32OL4BHc&sa=U&ved=2ahUKEwj7mZ30i4-CAxXPslYBHZzgAAEQtwJ6BAgKEAE&usg=AOvVaw28g1e83fO4YqeKT3gZQecx\n",
      "\n",
      "標題：\n",
      "網址：https://www.youtube.com/watch%3Fv%3DCSU32OL4BHc&sa=U&ved=2ahUKEwj7mZ30i4-CAxXPslYBHZzgAAEQuAJ6BAgKEAI&usg=AOvVaw1DIboPzHqszCXnrpDoyldB\n",
      "\n",
      "標題：NBA | 運動視界Sports Visionwww.sportsv.net › basketball › nba\n",
      "網址：https://www.sportsv.net/basketball/nba&sa=U&ved=2ahUKEwj7mZ30i4-CAxXPslYBHZzgAAEQFnoECAUQAg&usg=AOvVaw1ABYS4g0PB1en28RINYoRV\n",
      "\n",
      "標題：LeBron、Curry的新一輪競爭！【轟酷看籃球】 - YouTubewww.youtube.com › watch\n",
      "網址：https://www.youtube.com/watch%3Fv%3DUXxoFKj0NOM&sa=U&ved=2ahUKEwj7mZ30i4-CAxXPslYBHZzgAAEQtwJ6BAgJEAE&usg=AOvVaw0nA4fVlwx06pOK-nLaULl6\n",
      "\n",
      "標題：\n",
      "網址：https://www.youtube.com/watch%3Fv%3DUXxoFKj0NOM&sa=U&ved=2ahUKEwj7mZ30i4-CAxXPslYBHZzgAAEQuAJ6BAgJEAI&usg=AOvVaw2WsnJPUGSd8ybOCvQxsbUF\n",
      "\n",
      "標題：看板NBA 文章列表- 批踢踢實業坊www.ptt.cc › bbs › NBA\n",
      "網址：https://www.ptt.cc/bbs/NBA/index.html&sa=U&ved=2ahUKEwj7mZ30i4-CAxXPslYBHZzgAAEQFnoECAEQAg&usg=AOvVaw1zkNXPqSUaMktlk7HkQULu\n",
      "\n",
      "標題：NBA Taiwan - Facebookwww.facebook.com › ... › Sports league › NBA Taiwan\n",
      "網址：https://www.facebook.com/nba.taiwan/&sa=U&ved=2ahUKEwj7mZ30i4-CAxXPslYBHZzgAAEQFnoECAMQAg&usg=AOvVaw1crC6IAinNWeDC_7_Jd0PH\n",
      "\n"
     ]
    }
   ],
   "source": [
    "# Google搜尋\n",
    "import requests\n",
    "from bs4 import BeautifulSoup\n",
    "\n",
    "# Google 搜尋 URL\n",
    "google_url = 'https://www.google.com.tw/search'\n",
    "\n",
    "# 查詢參數\n",
    "my_params = {'q': 'nba'}\n",
    "\n",
    "# 下載 Google 搜尋結果\n",
    "r = requests.get(google_url, params = my_params)\n",
    "\n",
    "# 確認是否下載成功\n",
    "#if r.status_code == requests.codes.ok:\n",
    "  # 以 BeautifulSoup 解析 HTML 原始碼\n",
    "soup = BeautifulSoup(r.text, 'html.parser')\n",
    "\n",
    "  # 觀察 HTML 原始碼 prettify()->換行\n",
    "  #print(soup.prettify())\n",
    "\n",
    "  # 以 CSS 的選擇器來抓取 Google 的搜尋結果\n",
    "items = soup.select('div.kCrYT > a[href^=\"/url\"]')\n",
    "  #print(items)\n",
    " \n",
    "for i in items:\n",
    "    # 標題\n",
    "    print(\"標題：\" + i.text)\n",
    "    # 網址\n",
    "    # 清除網址前面的url\n",
    "    url = i.get('href')\n",
    "    cleaned_url = url[7:] if url.startswith('/url') else url\n",
    "    print(\"網址：\" + cleaned_url)\n",
    "    print()"
   ]
  },
  {
   "cell_type": "code",
   "execution_count": null,
   "id": "fe5ab015",
   "metadata": {},
   "outputs": [],
   "source": []
  }
 ],
 "metadata": {
  "kernelspec": {
   "display_name": "Python 3 (ipykernel)",
   "language": "python",
   "name": "python3"
  },
  "language_info": {
   "codemirror_mode": {
    "name": "ipython",
    "version": 3
   },
   "file_extension": ".py",
   "mimetype": "text/x-python",
   "name": "python",
   "nbconvert_exporter": "python",
   "pygments_lexer": "ipython3",
   "version": "3.11.5"
  }
 },
 "nbformat": 4,
 "nbformat_minor": 5
}
